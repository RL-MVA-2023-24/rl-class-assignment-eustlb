{
 "cells": [
  {
   "cell_type": "code",
   "execution_count": 7,
   "metadata": {},
   "outputs": [],
   "source": [
    "from train import ProjectAgent\n",
    "\n",
    "agent = ProjectAgent()\n",
    "agent.load()"
   ]
  },
  {
   "cell_type": "code",
   "execution_count": 8,
   "metadata": {},
   "outputs": [
    {
     "name": "stdout",
     "output_type": "stream",
     "text": [
      "val score: 2.59E+10\n",
      "val score: 2.27E+10\n"
     ]
    }
   ],
   "source": [
    "from evaluate import evaluate_HIV, evaluate_HIV_population\n",
    "from decimal import Decimal\n",
    "\n",
    "validation_score = evaluate_HIV(agent=agent, nb_episode=1)\n",
    "print(f\"val score: {Decimal(str(validation_score)):.2E}\")\n",
    "\n",
    "score_agent_dr = evaluate_HIV_population(agent=agent, nb_episode=15)\n",
    "print(f\"val score: {Decimal(str(score_agent_dr)):.2E}\")"
   ]
  },
  {
   "cell_type": "code",
   "execution_count": null,
   "metadata": {},
   "outputs": [],
   "source": []
  }
 ],
 "metadata": {
  "kernelspec": {
   "display_name": "rl-assign-1",
   "language": "python",
   "name": "python3"
  },
  "language_info": {
   "codemirror_mode": {
    "name": "ipython",
    "version": 3
   },
   "file_extension": ".py",
   "mimetype": "text/x-python",
   "name": "python",
   "nbconvert_exporter": "python",
   "pygments_lexer": "ipython3",
   "version": "3.10.13"
  }
 },
 "nbformat": 4,
 "nbformat_minor": 2
}
